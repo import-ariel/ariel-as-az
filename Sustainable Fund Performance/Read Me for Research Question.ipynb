{
 "cells": [
  {
   "cell_type": "markdown",
   "metadata": {},
   "source": [
    "## Research Driver\n",
    "President Biden used the first veto of his presidency in March 2023 to halt legislation that would prevent investment managers from considering a company’s environmental, social, and corporate governance (ESG) practices in their investment decisions. \n",
    "\n",
    "The showdown between the Republican Congress and Democratic President highlighted a relatively new financial practice, commonly known as sustainable investing, wherein fund managers take ESG into account when making investment decisions.  \n",
    "\n",
    "ESG funds’ performance lagged in 2023,  but some investors insist that companies which incorporate these considerations into their strategies are more adapted to long-term economic shifts. Therefore, these companies will generate better returns for investors over the long run. \n",
    "\n",
    "## Research Question\n",
    "Although past scholars have attempted to isolate the effects of environmental, social, and corporate governance practices on investment returns, the large amount of data and difficulty of isolating variables has prevented academics from definitively concluding whether funds that account for ESG variables out-perform their more traditional peers.  \n",
    "\n",
    "We therefore seek to determine if investing in the traditionally perceived “non-ESG” compliant industries, such as fossil fuels and arms manufacturing, impacts fund performance. For this topic, we hypothesize that Explainable Boosting Machines and SHapley Additive exPlanations can be applied. Through these and other possible methods, we hope to explain the importance of each factor on the target dependent value, the return of the fund. \n",
    "\n",
    "We will also determine the extent to which a funds’ investment percentage in the non-ESG industries influences their performance. With this research question, we hope to apply the difference-in-difference method to exclude the effect of environmental/macro factors and monitor how an increase in the investment percentage will impact investment performance. We aim to isolate the impact of target variables, thereby enabling a more precise measurement of how shifts in investment proportions towards non-ESG industries affect overall fund returns.\n",
    "\n",
    "## Data Description\n",
    "Fund level data comes from As You Sow, a non-profit that tracks the non-ESG and ESG investments of various funds at an industry level. The data focus on the following non-ESG and ESG industries:\n",
    "\n",
    "-\tFossil fuels\n",
    "-\tDeforestation\n",
    "-\tGuns\n",
    "-\tWeapons\n",
    "-\tPrison\n",
    "-\tTobacco\n",
    "-\tGender equality\n",
    "\n",
    "Yearly data for each fund is recorded. For our analysis, we will capture data from 2020 to the end of 2023. To track how consistent funds are at investing in ESG initiatives we will engineer the data to show, for instance, how consistent Fund X has been in regards to investing in tobacco free companies from 2020 to 2023. \n",
    "\n",
    "We will analyze 9,000+ data. Each industry that the fund invests in is further broken into sub industries. For example, Fossil fuel holdings are broken up into oil/gas industries, macroclimate coal-fired utilities, coal, and carbon underground. Our independent variable will be the fund net performance over a certain period of time (the exact period of time will be determined in the future).    \n",
    "\n",
    "## References\n",
    "Chiacu, Doina. “Biden Uses First Veto to Defend Rule on ESG Investing.” Reuters, March 20, 2023, sec. Sustainable Business. https://www.reuters.com/business/sustainable-business/biden-vetoes-resolution-block-labor-dept-rule-esg-investing-2023-03-20/.\n",
    "       \n",
    "Foster, Lauren. “ESG Funds Set a Dismal Record. Yet Performance Was a Drag.” barrons. Accessed January 21, 2024. https://www.barrons.com/articles/esg-funds-etfs-stocks-blackrock-e517a15c.\n",
    "\n",
    "“Quantitative Methods for ESG Finance.” Accessed January 21, 2024. https://eds-p-ebscohost-com.proxy.uchicago.edu/eds/ebookviewer/ebook?sid=198181b3-cfa8-404a-bb1f-c3db12db44e9%40redis&vid=0&format=EB.\n",
    "\n",
    "Whelan, Tensie, Ulrich Atz, Tracy Van Holt, and Casey Clark. “ESG and Financial Performance: Uncovering the Relationship by Aggregating Evidence from 1,000 Plus Studies Published between 2015 – 2020,” n.d."
   ]
  }
 ],
 "metadata": {
  "kernelspec": {
   "display_name": "base",
   "language": "python",
   "name": "python3"
  },
  "language_info": {
   "name": "python",
   "version": "3.11.4"
  }
 },
 "nbformat": 4,
 "nbformat_minor": 2
}
