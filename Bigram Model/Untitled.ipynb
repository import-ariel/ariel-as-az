{
 "cells": [
  {
   "cell_type": "code",
   "execution_count": null,
   "id": "24d143b4-2767-4c35-866b-e9996ef628d1",
   "metadata": {},
   "outputs": [],
   "source": []
  },
  {
   "cell_type": "code",
   "execution_count": null,
   "id": "8463bebe-2c5c-4e61-b17c-13d86f101595",
   "metadata": {},
   "outputs": [],
   "source": [
    "# Saving the resulting text\n"
   ]
  },
  {
   "cell_type": "code",
   "execution_count": null,
   "id": "f7bf077b-5a4a-4261-8337-a7b4879dfb9d",
   "metadata": {
    "tags": []
   },
   "outputs": [],
   "source": [
    "# 1) Converting \".\" to \"PERIOD\"\n",
    "text_c = text.replace(\".\", \"PERIOD\")\n",
    "\n",
    "# Creating a list of words. First, I will create a string, then transform it into a list. \n",
    "# Source: https://www.geeksforgeeks.org/python-program-convert-string-list/\n",
    "def convert_words(string):\n",
    "    string = string.replace(\"\\n\", \" \")  # in case this needs to be done\n",
    "    li = list(string.split(\" \"))\n",
    "    return li\n",
    " \n",
    "# Using the new function\n",
    "str1 = text\n",
    "large_list = (convert_words(str1))\n",
    "\n",
    "print(large_list)"
   ]
  },
  {
   "cell_type": "markdown",
   "id": "a7b0f3b8-c99f-4f88-b7f3-365030c3abda",
   "metadata": {
    "tags": []
   },
   "source": [
    "#### Question 3\n",
    "Count how often each pair of words occurs in the input text and record it for later retrieval"
   ]
  },
  {
   "cell_type": "code",
   "execution_count": null,
   "id": "481184ee-cc5d-47b9-94d9-54380d40c7fe",
   "metadata": {
    "tags": []
   },
   "outputs": [],
   "source": [
    "# Finding duplicates\n",
    "duplicate = df[df.duplicated(['even' , 'odd'])]\n",
    "duplicate\n",
    "\n",
    "df2 = len(df)-len(df.drop_duplicates())\n",
    "df2"
   ]
  },
  {
   "cell_type": "markdown",
   "id": "881ef2f7-4932-493b-89c9-849635fef46e",
   "metadata": {
    "tags": []
   },
   "source": [
    "#### Question 4\n",
    "Count how often each pair of words occurs in the input text and record it for later retrieval"
   ]
  },
  {
   "cell_type": "code",
   "execution_count": null,
   "id": "3507323f-f2bf-4261-8c7f-9863cf1ef5bd",
   "metadata": {
    "tags": []
   },
   "outputs": [],
   "source": [
    "# Assuming 'df' is your DataFrame with two columns 'word1' and 'word2'\n",
    "# Create a frequency matrix using crosstab\n",
    "frequency_matrix = pd.crosstab(df['even'], df['odd'])\n",
    "\n",
    "# Add a row and column for words that do not appear in 'word1' or 'word2'\n",
    "unique_words = set(df['even']).union(set(df['odd']))\n",
    "for word in unique_words:\n",
    "    if word not in frequency_matrix.index:\n",
    "        frequency_matrix.loc[word] = 0\n",
    "    if word not in frequency_matrix.columns:\n",
    "        frequency_matrix[word] = 0\n",
    "\n",
    "# Sort rows and columns for better readability (optional)\n",
    "frequency_matrix = frequency_matrix.sort_index(axis=0).sort_index(axis=1)\n",
    "\n",
    "# Print the frequency matrix\n",
    "print(frequency_matrix)"
   ]
  },
  {
   "cell_type": "markdown",
   "id": "f08af08c-4170-4f8d-ab1d-e50950d0d208",
   "metadata": {
    "tags": []
   },
   "source": [
    "Note: I used ChatGPT to help me answer this question: \n",
    "Hello, I am trying to write a bigram model in Python using pandas. I am a beginner coder. \n",
    "\n",
    "So far, I have cleaned the text and created a Dataframe with two columns. Each column corresponds to a word in a pair. \n",
    "\n",
    "I am trying to use this Dataframe to create  to generate a frequency matrix that counts each time a pair of words appears. The output should look like this: \n",
    "          a  again am  and  at  civilized i ... PERIOD\n",
    "a         0  0     0   0    0   0         0 ... 0 \n",
    "again     0  0     0   0    0   0         0 ... 1\n",
    "am        1  1     0   0    0   0         0 ... 0\n",
    "and       0  0     0   0    0   0         0 ... 0\n",
    "at        0  0     0   0    0   0         0 ... 0\n",
    "civilized 0  0     0   0    0   0         0 ... 0\n",
    "i         0  0     1   0    0   0         0 ... 0\n",
    "...\n",
    "PERIOD    0  0     0   0    0   0         0 ... 0\n",
    "\n",
    "can you please help me? "
   ]
  },
  {
   "cell_type": "markdown",
   "id": "fce806c0-d786-4a35-b494-e867df5a72c7",
   "metadata": {
    "tags": []
   },
   "source": [
    "#### Question 4\n",
    "Normalize the counts and turn them into probabilities."
   ]
  },
  {
   "cell_type": "code",
   "execution_count": null,
   "id": "c78d0e93-e9fd-4d05-96eb-6896ac0343ea",
   "metadata": {
    "jupyter": {
     "source_hidden": true
    },
    "tags": []
   },
   "outputs": [],
   "source": [
    "# Step 1: Calculate total frequencies for each word\n",
    "word_totals = frequency_matrix.sum(axis=1)\n",
    "\n",
    "# Step 2: Divide each frequency by the total to get probabilities\n",
    "transition_matrix = frequency_matrix.div(word_totals, axis=0)\n",
    "\n",
    "# Print the transition matrix\n",
    "print(transition_matrix)"
   ]
  },
  {
   "cell_type": "markdown",
   "id": "a77083d0-00b5-43b8-8cfe-18cc43be165f",
   "metadata": {
    "tags": []
   },
   "source": [
    "#### Question 5\n",
    "Normalize the counts and turn them into probabilities."
   ]
  },
  {
   "cell_type": "code",
   "execution_count": null,
   "id": "d2220895-56f0-4dbc-8e9b-bc6e3b1c6925",
   "metadata": {
    "tags": []
   },
   "outputs": [],
   "source": [
    "new_sentence = []\n",
    "for word in transition_matrix: \n",
    "    if new_sentence < 11:\n",
    "        new_sentence = append(random.choices(transition_matrix))\n",
    "    else: \n",
    "        \n",
    "    "
   ]
  }
 ],
 "metadata": {
  "kernelspec": {
   "display_name": "Python 3 (ipykernel)",
   "language": "python",
   "name": "python3"
  },
  "language_info": {
   "codemirror_mode": {
    "name": "ipython",
    "version": 3
   },
   "file_extension": ".py",
   "mimetype": "text/x-python",
   "name": "python",
   "nbconvert_exporter": "python",
   "pygments_lexer": "ipython3",
   "version": "3.11.4"
  }
 },
 "nbformat": 4,
 "nbformat_minor": 5
}
